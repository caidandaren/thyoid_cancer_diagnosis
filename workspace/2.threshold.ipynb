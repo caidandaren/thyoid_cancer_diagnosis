{
 "cells": [
  {
   "cell_type": "code",
   "execution_count": 10,
   "metadata": {
    "collapsed": false
   },
   "outputs": [
    {
     "name": "stdout",
     "output_type": "stream",
     "text": [
      "D:/doc/4/graduation/data/193\\dicomdir\n"
     ]
    },
    {
     "name": "stdout",
     "output_type": "stream",
     "text": [
      "<type 'str'>\n29\n5.3756382810167755\n(array([280]), array([240]))\n(array([280]), array([240]))\n5.3756382810167755\n72\n"
     ]
    }
   ],
   "source": [
    "import os\n",
    "import dicom\n",
    "import cv2\n",
    "import csv\n",
    "import numpy as np\n",
    "import math\n",
    "from matplotlib import pyplot as plt\n",
    "\n",
    "DATASET_BASE = \"D:/doc/4/graduation/data\"\n",
    "PATH_raw_info = DATASET_BASE + '/data1.csv'\n",
    "fname = PATH_raw_info\n",
    "id = 194\n",
    "with open(fname, 'r') as csvfile:\n",
    "    rows = csv.reader(csvfile)\n",
    "    id = id - 1\n",
    "    for row in rows:\n",
    "        if row[0] == str(id):\n",
    "            name = row[1]\n",
    "            x = int(row[2])\n",
    "            y = int(row[3])\n",
    "            z = int(row[4])\n",
    "            loc = \"D:/doc/4/graduation/data/193\"\n",
    "            \n",
    "print(os.path.join(loc, 'dicomdir'))\n",
    "ds = dicom.read_file(os.path.join(loc, 'dicomdir'))\n",
    "pixel_data = [np.zeros((512, 512)), np.zeros((512, 512))]\n",
    "\n",
    "for record in ds.DirectoryRecordSequence:\n",
    "    if record.DirectoryRecordType == \"IMAGE\":\n",
    "        # Extract the relative path to the DICOM file\n",
    "        path = os.path.join(loc, record.ReferencedFileID[0], record.ReferencedFileID[1])\n",
    "        dcm = dicom.read_file(path)\n",
    "        if dcm.InstanceNumber == z:\n",
    "            if \"WB\" in dcm[0x08, 0x103e].value:\n",
    "                if \"PET\" in dcm[0x08, 0x103e].value:\n",
    "                    pet_spa = dcm.PixelSpacing[0]\n",
    "                    z = dcm.InstanceNumber\n",
    "                    pet_len = dcm.Rows\n",
    "                    slice_num = dcm.NumberOfSlices\n",
    "                    pixel_data[0][0:pet_len, 0:pet_len] = dcm.pixel_array\n",
    "                    RIS = dcm[0x54,0x16].value\n",
    "                    dose = RIS[0][0x18,0x1074].value\n",
    "                    half_life = RIS[0][0x18,0x1075].value\n",
    "                    start = RIS[0][0x18,0x1072].value\n",
    "                    scan = dcm[0x08,0x32].value\n",
    "                    decay = float(scan) - float(start)\n",
    "                    decayed_dose = pow(2, decay/half_life)\n",
    "                    res_slope = dcm[0x28,0x1053].value\n",
    "                    res_intercept = dcm[0x28,0x1052].value\n",
    "                    PET_num = dcm.NumberOfSlices\n",
    "                    pet_test = dcm[0x7fe0, 0x10].value\n",
    "            if \"5mm\" in dcm[0x08, 0x103e].value or \"CT_WB\" in dcm[0x08, 0x103e].value:\n",
    "                ct_len = dcm.Rows\n",
    "                z = dcm.InstanceNumber\n",
    "                ct_spa = dcm.PixelSpacing[0]\n",
    "                pixel_data[1][0:ct_len, 0:ct_len] = dcm.pixel_array\n",
    "\n",
    "pet0 = pixel_data[0][0:pet_len, 0:pet_len]\n",
    "ct = pixel_data[1][0:ct_len, 0:ct_len]\n",
    "del pixel_data\n",
    "pet1 = cv2.resize(pet0, dsize=None, fx=pet_spa / ct_spa, fy=pet_spa / ct_spa)\n",
    "pet_len = pet1.shape[1]\n",
    "if (pet_len > 511):\n",
    "    centre = int(pet_len / 2)\n",
    "    pet2 = pet1[centre - 256:centre + 256, centre - 256:centre + 256]\n",
    "else:\n",
    "    len0 = pet_len\n",
    "    if (len0 % 2 == 0):\n",
    "        pad = int(256 - len0 / 2)\n",
    "        pet2 = cv2.copyMakeBorder(pet1, pad, pad, pad, pad, cv2.BORDER_REPLICATE)\n",
    "    else:\n",
    "        pad = int(256 - len0 / 2)\n",
    "        pet2 = cv2.copyMakeBorder(pet1, pad - 1, pad, pad, pad - 1, cv2.BORDER_REPLICATE)\n",
    "pet = pet2\n",
    "ct = ct\n",
    "\n",
    "print(type(pet_test))\n",
    "print(z)\n",
    "suv_img = (pet * res_slope + res_intercept) * decayed_dose * (dcm[0x10,0x1030].value * 1000 / dose) \n",
    "# suv_2 = U / (1000 / Ac * dcm[0x10,0x1030].value * math.exp(-0.693 / T1 * (t0-t1)))\n",
    "print(np.max(suv_img))\n",
    "print(np.where(pet == np.max(pet)))\n",
    "print(np.where(suv_img == np.max(suv_img)))\n",
    "print(suv_img[280,240])\n",
    "print(dcm[0x10,0x1030].value)\n",
    "# \n",
    "# plt.figure(figsize=(15, 15))\n",
    "# plt.subplot(2, 2, 1)\n",
    "# plt.imshow(pet)\n",
    "# plt.subplot(2, 2, 2)\n",
    "# plt.imshow(ct)\n",
    "# plt.subplot(2, 2, 3)\n",
    "# plt.imshow(ct, plt.cm.gray)\n",
    "# plt.imshow(pet, plt.cm.afmhot, alpha=0.5)\n",
    "# plt.scatter(240, 280, color='', marker='o', edgecolors='w', s=200)\n",
    "# plt.title(1)\n",
    "# plt.show()"
   ]
  },
  {
   "cell_type": "code",
   "execution_count": 29,
   "metadata": {},
   "outputs": [],
   "source": [
    "import pandas as pd\n",
    "import numpy as np\n",
    "import collections\n",
    "from itertools import repeat"
   ]
  },
  {
   "cell_type": "code",
   "execution_count": 8,
   "metadata": {},
   "outputs": [],
   "source": [
    "INFO = pd.read_csv('D:/doc/guo/diannei/doc/code_check/invasion/csv/INFO_lidc_0131.csv')\n",
    "a = list(INFO[INFO['subset'] ==0].index)"
   ]
  },
  {
   "cell_type": "code",
   "execution_count": 16,
   "metadata": {},
   "outputs": [],
   "source": [
    "subset = [1,2,3,4]\n",
    "invasion = 'subset'\n",
    "LABEL_NAME = 'invasion_label'\n",
    "LABEL = ['AAH', 'AIS', 'MIA', 'IA', 'OTHER']\n",
    "index = []\n",
    "for sset in subset:\n",
    "    index += list(INFO[INFO[invasion] == sset].index)\n",
    "index = tuple(sorted(index))  # the index in the info\n",
    "label = np.array([[label == s for label in LABEL] for s in INFO.loc[index, LABEL_NAME]])"
   ]
  },
  {
   "cell_type": "code",
   "execution_count": 27,
   "metadata": {},
   "outputs": [
    {
     "data": {
      "text/plain": [
       "<function __main__.parse>"
      ]
     },
     "execution_count": 27,
     "metadata": {},
     "output_type": "execute_result"
    }
   ],
   "source": [
    "def _ntuple(n):\n",
    "    def parse(x):\n",
    "        if isinstance(x, collections.Iterable):\n",
    "            return x\n",
    "        return tuple(repeat(x, n))\n",
    "\n",
    "    return parse\n",
    "\n",
    "_ntuple(3)"
   ]
  },
  {
   "cell_type": "code",
   "execution_count": 35,
   "metadata": {},
   "outputs": [
    {
     "name": "stdout",
     "output_type": "stream",
     "text": [
      "huhy\n"
     ]
    }
   ],
   "source": [
    "a = _ntuple(3)\n",
    "print(a(\"huhy\"))"
   ]
  },
  {
   "cell_type": "code",
   "execution_count": null,
   "metadata": {},
   "outputs": [],
   "source": []
  }
 ],
 "metadata": {
  "kernelspec": {
   "display_name": "Python 2",
   "language": "python",
   "name": "python2"
  },
  "language_info": {
   "codemirror_mode": {
    "name": "ipython",
    "version": 2
   },
   "file_extension": ".py",
   "mimetype": "text/x-python",
   "name": "python",
   "nbconvert_exporter": "python",
   "pygments_lexer": "ipython2",
   "version": "2.7.6"
  }
 },
 "nbformat": 4,
 "nbformat_minor": 0
}
