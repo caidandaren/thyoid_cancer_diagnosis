{
 "cells": [
  {
   "cell_type": "code",
   "execution_count": 18,
   "metadata": {
    "collapsed": true
   },
   "outputs": [
    {
     "name": "stdout",
     "output_type": "stream",
     "text": [
      "2\n"
     ]
    }
   ],
   "source": [
    "import dicom\n",
    "loc = \"D:/doc/guo/diannei/data/biaozhu/\"\n",
    "ds = dicom.read_file(loc+'dicomdir')\n",
    "print(2)\n",
    "pixel_data = [0,0]\n",
    "contour=[]\n",
    "for record in ds.DirectoryRecordSequence:\n",
    "    if record.DirectoryRecordType == \"RT STRUCTURE SET\":\n",
    "        path = loc+record.ReferencedFileID[0]+'/'+record.ReferencedFileID[1]+'/'+record.ReferencedFileID[2]+'/'+record.ReferencedFileID[3]\n",
    "        dcm = dicom.read_file(path)\n",
    "        rcs = dcm.ROIContourSequence\n",
    "        for i in rcs:\n",
    "            for j in i.ContourSequence:\n",
    "                contour.append(j.ContourData)\n",
    "    # if record.DirectoryRecordType == \"IMAGE\":\n",
    "    #     # Extract the relative path to the DICOM file\n",
    "    #     path = loc+record.ReferencedFileID[0]+'/'+record.ReferencedFileID[1]+'/'+record.ReferencedFileID[2]+'/'+record.ReferencedFileID[3]\n",
    "    #     dcm = dicom.read_file(path)\n",
    "    #     try:\n",
    "    #         rcs = dcm.ROIContourSequence.value()\n",
    "    #     except:\n",
    "    #         print(1)\n",
    "    #     else:  \n",
    "    #         contour = rcs[0].ContourSequence[0].ContourData\n",
    "    #         print(2)"
   ]
  },
  {
   "cell_type": "code",
   "execution_count": 29,
   "metadata": {},
   "outputs": [
    {
     "data": {
      "text/plain": [
       "['-9.2089772224426', '-193.75390446186', '-319', '-12.226566672325', '-191.94727277756', '-319', '-16.005858778954', '-191.61523020267', '-319', '-20.810544490814', '-185.93164420128', '-319', '-21.962895989418', '-181.13671875', '-319', '-21.650388836861', '-176.47851145267', '-319', '-19.482418894768', '-174.38866829872', '-319', '-20.830079913139', '-172.29882514477', '-319', '-20.117193460464', '-169.32030653954', '-319', '-15.908196568489', '-163.81250953674', '-319', '-9.2968791723251', '-161.80079317093', '-319', '-3.4472644329071', '-164.59374761581', '-319', '-2.4609416723251', '-167.46484375', '-319', '-2.1191388368607', '-175.08203423023', '-319', '1.2304782867432', '-177.35742664337', '-319', '0.61523914337158', '-183.12889969349', '-319', '-0.6933659315109', '-187.82617783546', '-319', '-5.5761784315109', '-193.57813036442', '-319', '-8.2324147224426', '-194.39843928814', '-319']"
      ]
     },
     "execution_count": 29,
     "metadata": {},
     "output_type": "execute_result"
    }
   ],
   "source": [
    "contour[1]"
   ]
  },
  {
   "cell_type": "code",
   "execution_count": 24,
   "metadata": {},
   "outputs": [],
   "source": [
    "if(\"12\" and \"34\" in \"1244\"):\n",
    "    print('hello')"
   ]
  },
  {
   "cell_type": "code",
   "execution_count": 42,
   "metadata": {},
   "outputs": [],
   "source": [
    "import pandas as pd"
   ]
  },
  {
   "cell_type": "code",
   "execution_count": 91,
   "metadata": {},
   "outputs": [],
   "source": [
    "plus = pd.read_csv('data/plus.csv')\n",
    "ori = pd.read_csv('data/data1.csv')\n",
    "new = pd.read_csv('data/new.csv')"
   ]
  },
  {
   "cell_type": "code",
   "execution_count": 88,
   "metadata": {},
   "outputs": [
    {
     "name": "stdout",
     "output_type": "stream",
     "text": [
      "False\n左叶局部代谢增高\n柏玉珍\n"
     ]
    }
   ],
   "source": [
    "print(\"陈思敏\" in plus['name'])\n",
    "print(ori['姓名'][0])\n"
   ]
  },
  {
   "cell_type": "code",
   "execution_count": 101,
   "metadata": {},
   "outputs": [
    {
     "name": "stderr",
     "output_type": "stream",
     "text": [
      "C:\\Python27\\lib\\site-packages\\ipykernel_launcher.py:8: SettingWithCopyWarning: \nA value is trying to be set on a copy of a slice from a DataFrame\n\nSee the caveats in the documentation: http://pandas.pydata.org/pandas-docs/stable/indexing.html#indexing-view-versus-copy\n  \nC:\\Python27\\lib\\site-packages\\ipykernel_launcher.py:5: SettingWithCopyWarning: \nA value is trying to be set on a copy of a slice from a DataFrame\n\nSee the caveats in the documentation: http://pandas.pydata.org/pandas-docs/stable/indexing.html#indexing-view-versus-copy\n  \"\"\"\nC:\\Python27\\lib\\site-packages\\ipykernel_launcher.py:11: SettingWithCopyWarning: \nA value is trying to be set on a copy of a slice from a DataFrame\n\nSee the caveats in the documentation: http://pandas.pydata.org/pandas-docs/stable/indexing.html#indexing-view-versus-copy\n  # This is added back by InteractiveShellApp.init_path()\nC:\\Python27\\lib\\site-packages\\ipykernel_launcher.py:12: SettingWithCopyWarning: \nA value is trying to be set on a copy of a slice from a DataFrame\n\nSee the caveats in the documentation: http://pandas.pydata.org/pandas-docs/stable/indexing.html#indexing-view-versus-copy\n  if sys.path[0] == '':\n"
     ]
    },
    {
     "name": "stdout",
     "output_type": "stream",
     "text": [
      "0.7\n0\n4.4\n3.1\n0\n0\n0\n"
     ]
    },
    {
     "name": "stdout",
     "output_type": "stream",
     "text": [
      "2.3\n1.4\n0\n0\n1.2\n0.8\n1.7\n0.8\n0.6\n0.5\n"
     ]
    },
    {
     "name": "stdout",
     "output_type": "stream",
     "text": [
      "0\n0.5\n0\n3.3\n2.3\n0\n4.2\n2.8\n"
     ]
    },
    {
     "name": "stdout",
     "output_type": "stream",
     "text": [
      "2.2\n1.9\n1.7\n0\n1.2\n0.7\n1.8\n1.4\n1.2\n"
     ]
    },
    {
     "name": "stdout",
     "output_type": "stream",
     "text": [
      "1.2\n1.0\n0.5\n1.7\n1.3\n2.7\n2.5\n0.9\n0.7\n"
     ]
    },
    {
     "name": "stdout",
     "output_type": "stream",
     "text": [
      "3.9\n3.0\n1.3\n1.3\n0.7\n1.2\n0.8\n0\n1.5\n1.3\n"
     ]
    },
    {
     "name": "stdout",
     "output_type": "stream",
     "text": [
      "1.7\n0.8\n0\n0.3\n0\n0\n"
     ]
    },
    {
     "name": "stdout",
     "output_type": "stream",
     "text": [
      "2.6\n1.7\n0\n0\n0\n0.3\n0\n"
     ]
    },
    {
     "name": "stdout",
     "output_type": "stream",
     "text": [
      "0.9\n0\n3.5\n3.0\n0\n0\n0\n"
     ]
    },
    {
     "name": "stdout",
     "output_type": "stream",
     "text": [
      "1.3\n0.8\n0\n1.1\n1.1\n0\n0\n"
     ]
    },
    {
     "name": "stdout",
     "output_type": "stream",
     "text": [
      "0\n0.6\n0\n0\n1.3\n0\n"
     ]
    },
    {
     "name": "stdout",
     "output_type": "stream",
     "text": [
      "0\n0\n1.4\n0.8\n0\n0\n"
     ]
    },
    {
     "name": "stdout",
     "output_type": "stream",
     "text": [
      "1.4\n0.8\n0.6\n0.5\n0.8\n0\n0\n1.0\n"
     ]
    },
    {
     "name": "stdout",
     "output_type": "stream",
     "text": [
      "0\n1.0\n0.8\n0\n1.2\n0\n0\n"
     ]
    },
    {
     "name": "stdout",
     "output_type": "stream",
     "text": [
      "1.3\n0\n1.5\n1.1\n0.5\n0.9\n0.5\n0\n"
     ]
    },
    {
     "name": "stdout",
     "output_type": "stream",
     "text": [
      "0\n5.0\n3.5\n0\n0\n2.8\n2.5\n0\n"
     ]
    },
    {
     "name": "stdout",
     "output_type": "stream",
     "text": [
      "0.6\n0\n0\n1.9\n1.5\n0\n0.8\n0.5\n"
     ]
    },
    {
     "name": "stdout",
     "output_type": "stream",
     "text": [
      "0\n3.2\n3.3\n0\n1.9\n1.8\n0.6\n0.6\n0.5\n5.3\n4.7\n"
     ]
    },
    {
     "name": "stdout",
     "output_type": "stream",
     "text": [
      "0.8\n0\n0\n1.0\n0\n0\n"
     ]
    },
    {
     "name": "stdout",
     "output_type": "stream",
     "text": [
      "0.9\n0\n1.5\n1.1\n1.0\n0.5\n3.0\n2.9\n2.5\n2.1\n"
     ]
    },
    {
     "name": "stdout",
     "output_type": "stream",
     "text": [
      "0.5\n0.8\n0.5\n0\n5.3\n4.1\n0.9\n1.3\n1.0\n"
     ]
    },
    {
     "name": "stdout",
     "output_type": "stream",
     "text": [
      "4.1\n2.7\n0\n0\n0.5\n0\n0\n1.6\n"
     ]
    },
    {
     "name": "stdout",
     "output_type": "stream",
     "text": [
      "0\n0.8\n0.7\n0.5\n0\n1.2\n0.9\n0\n1.4\n"
     ]
    },
    {
     "name": "stdout",
     "output_type": "stream",
     "text": [
      "0.8\n0.4\n3.0\n1.9\n1.5\n1.2\n0\n1.0\n0\n"
     ]
    },
    {
     "name": "stdout",
     "output_type": "stream",
     "text": [
      "0.5\n1.8\n0\n3.0\n4.3\n3.3\n0.9\n0.7\n1.5\n1.4\n"
     ]
    },
    {
     "name": "stdout",
     "output_type": "stream",
     "text": [
      "0\n0\n0.5\n1.4\n1.1\n0\n0\n"
     ]
    },
    {
     "name": "stdout",
     "output_type": "stream",
     "text": [
      "0.3\n0\n1.8\n1.3\n1.1\n0.5\n0\n0\n"
     ]
    },
    {
     "name": "stdout",
     "output_type": "stream",
     "text": [
      "2.0\n1.0\n0\n0\n0\n2.0\n1.7\n1.0\n"
     ]
    },
    {
     "name": "stdout",
     "output_type": "stream",
     "text": [
      "0\n2.8\n0\n1.0\n0\n1.5\n1.0\n"
     ]
    },
    {
     "name": "stdout",
     "output_type": "stream",
     "text": [
      "1.8\n0.9\n0\n0.6\n2.4\n1.7\n0\n"
     ]
    },
    {
     "name": "stdout",
     "output_type": "stream",
     "text": [
      "0.9\n0.8\n3.2\n2.1\n1.3\n1.5\n0\n2.0\n2.6\n2.1\n"
     ]
    },
    {
     "name": "stdout",
     "output_type": "stream",
     "text": [
      "0\n0\n3.1\n1.6\n0\n0\n0.7\n"
     ]
    },
    {
     "name": "stdout",
     "output_type": "stream",
     "text": [
      "0.8\n�.\n�.\n0.7\n0\n1.3\n1.2\n"
     ]
    },
    {
     "name": "stdout",
     "output_type": "stream",
     "text": [
      "1.1\n1.5\n1.2\n0\n0.6\n2.2\n�.\n1.0\n"
     ]
    },
    {
     "name": "stdout",
     "output_type": "stream",
     "text": [
      "0\n3.5\n2.0\n3.5\n3.3\n0.8\n0.5\n0\n"
     ]
    },
    {
     "name": "stdout",
     "output_type": "stream",
     "text": [
      "0.5\n0.8\n0\n0\n3.5\n0\n1.8\n1.7\n"
     ]
    },
    {
     "name": "stdout",
     "output_type": "stream",
     "text": [
      "2.2\n1.5\n3.6\n2.9\n0\n0\n2.0\n2.5\n0\n"
     ]
    },
    {
     "name": "stdout",
     "output_type": "stream",
     "text": [
      "2.8\n2.3\n1.0\n1.3\n2.0\n1.3\n0\n1.5\n"
     ]
    },
    {
     "name": "stdout",
     "output_type": "stream",
     "text": [
      "0\n0\n2.6\n1.0\n1.2\n2.8\n2.5\n0\n"
     ]
    },
    {
     "name": "stdout",
     "output_type": "stream",
     "text": [
      "0\n2.0\n1.8\n5.2\n0\n1.0\n0.8\n0.8\n1.0\n"
     ]
    },
    {
     "name": "stdout",
     "output_type": "stream",
     "text": [
      "0\n1.2\n1.0\n0\n2.2\n1.4\n1.6\n1.4\n0.9\n"
     ]
    },
    {
     "name": "stdout",
     "output_type": "stream",
     "text": [
      "1.0\n1.0\n0\n1.0\n7.1\n5.8\n4.4\n4.0\n"
     ]
    },
    {
     "name": "stdout",
     "output_type": "stream",
     "text": [
      "0\n3.5\n2.0\n0\n4.4\n4.9\n1.5\n0.6\n0.8\n1.6\n1.9\n"
     ]
    }
   ],
   "source": [
    "name = ori['姓名']\n",
    "for i in name.index:\n",
    "    report = new['report'][i]\n",
    "    if (report.count('.') == 0):\n",
    "        new['width'][i] = new['height'][i]=0\n",
    "        print(0)\n",
    "    elif (report.count('.') == 1):\n",
    "        new['width'][i] = new['height'][i] = str(report[report.find('.')-1:report.find('.')+2])\n",
    "        print(str(report[report.find('.')-1:report.find('.')+2]))\n",
    "    else:\n",
    "        new['width'][i] = str(report[report.find('.')-1:report.find('.')+2])\n",
    "        new['height'][i] = str(report[report.rfind('.')-1:report.rfind('.')+2])\n",
    "        print(str(report[report.find('.')-1:report.find('.')+2]))\n",
    "        print(str(report[report.rfind('.')-1:report.rfind('.')+2]))\n",
    "new.to_csv('data/new1.csv')"
   ]
  },
  {
   "cell_type": "code",
   "execution_count": 90,
   "metadata": {},
   "outputs": [],
   "source": [
    "ori.to_csv('data/new.csv')"
   ]
  },
  {
   "cell_type": "code",
   "execution_count": null,
   "metadata": {},
   "outputs": [],
   "source": []
  }
 ],
 "metadata": {
  "kernelspec": {
   "display_name": "Python 2",
   "language": "python",
   "name": "python2"
  },
  "language_info": {
   "codemirror_mode": {
    "name": "ipython",
    "version": 2
   },
   "file_extension": ".py",
   "mimetype": "text/x-python",
   "name": "python",
   "nbconvert_exporter": "python",
   "pygments_lexer": "ipython2",
   "version": "2.7.6"
  }
 },
 "nbformat": 4,
 "nbformat_minor": 0
}
